{
 "cells": [
  {
   "cell_type": "markdown",
   "metadata": {},
   "source": [
    "Copyright 2024 Zhixuan Hu\n",
    "\n",
    "Licensed under the Apache License, Version 2.0 (the \"License\");\n",
    "you may not use this file except in compliance with the License.\n",
    "You may obtain a copy of the License at\n",
    "\n",
    "    http://www.apache.org/licenses/LICENSE-2.0\n",
    "\n",
    "Unless required by applicable law or agreed to in writing, software\n",
    "distributed under the License is distributed on an \"AS IS\" BASIS,\n",
    "WITHOUT WARRANTIES OR CONDITIONS OF ANY KIND, either express or implied.\n",
    "See the License for the specific language governing permissions and\n",
    "limitations under the License."
   ]
  },
  {
   "cell_type": "code",
   "execution_count": 1,
   "metadata": {},
   "outputs": [
    {
     "name": "stdout",
     "output_type": "stream",
     "text": [
      "Intel(R) Arc(TM) Graphics selected.\n"
     ]
    }
   ],
   "source": [
    "import matplotlib.pyplot as plt\n",
    "import numpy as np\n",
    "import pandas as pd\n",
    "import os, re, sys, json, time, random, types\n",
    "import torch\n",
    "import torch.nn as nn               # 用于继承的模型都在这里\n",
    "import torch.nn.functional as F     # 常用的激活函数、损失函数等\n",
    "from torchsummary import summary    # 用于模型总结\n",
    "from sklearn.metrics import accuracy_score, precision_score, recall_score, f1_score\n",
    "\n",
    "os.chdir('./')                      # 设定工作根目录\n",
    "sys.path.append(os.path.join(os.getcwd(), '../../'))\n",
    "from Scripts.arkDLtools.dltools import select_device, Controller, Marker\n",
    "from torch.utils.collect_env import get_pretty_env_info\n",
    "env_info = get_pretty_env_info()    # 获取硬件、操作系统、pytorch版本等env信息\n",
    "device, device_name = select_device()   # device是对象，device_name是设备名称"
   ]
  },
  {
   "cell_type": "markdown",
   "metadata": {},
   "source": [
    "### 定义评价指标和验证函数"
   ]
  },
  {
   "cell_type": "code",
   "execution_count": 2,
   "metadata": {},
   "outputs": [],
   "source": [
    "def metrics(outputs, labels): \n",
    "    outputs, labels = outputs.cpu(), labels.cpu().numpy()                            # 定义评价指标（准确率）\n",
    "    preds = torch.where(outputs > 0.5, torch.tensor(1, dtype=torch.int8), torch.tensor(0, dtype=torch.int8))   # 获取预测类别\n",
    "    preds = preds.numpy()\n",
    "    accuracy = accuracy_score(labels, preds)\n",
    "    precision = precision_score(labels, preds)\n",
    "    recall = recall_score(labels, preds)\n",
    "    f1 = f1_score(labels, preds)\n",
    "    return accuracy, precision, recall, f1  # 计算准确率\n",
    "\n",
    "# 模型验证\n",
    "def validate(model, Loss=F.cross_entropy, Metrics=metrics, val_loader=None):\n",
    "    model.eval()                            # 模型切换到推理模式，否则会自动计算梯度，更新参数\n",
    "    val_loss, val_accuracy, val_precision, val_recall, val_f1 = 0, 0, 0, 0, 0                          # 初始化损失\n",
    "\n",
    "    for inputs, labels in val_loader:       # 迭代一批次的验证集数据\n",
    "        inputs, labels = inputs.to(device), labels.to(device)  # 将tensor切换到GPU存储模式\n",
    "        outputs = model(inputs)             # 计算模型输出\n",
    "        loss = Loss(outputs, labels)        # 计算损失函数\n",
    "        val_loss += loss.item()             # item方法提取出tensor中的数字\n",
    "        accuracy, precision, recall, f1 = Metrics(outputs, labels)    # 计算评价指标\n",
    "        val_accuracy += accuracy\n",
    "        val_precision += precision\n",
    "        val_recall += recall\n",
    "        val_f1 += f1\n",
    "    val_loss /= len(val_loader)             # 计算平均损失\n",
    "    val_accuracy /= len(val_loader)           # 计算评价指标平均值\n",
    "    val_precision /= len(val_loader)\n",
    "    val_recall /= len(val_loader)\n",
    "    val_f1 /= len(val_loader)\n",
    "    return val_loss, val_accuracy, val_precision, val_recall, val_f1"
   ]
  },
  {
   "cell_type": "markdown",
   "metadata": {},
   "source": [
    "### 构建数据读取与生成器"
   ]
  },
  {
   "cell_type": "code",
   "execution_count": 3,
   "metadata": {},
   "outputs": [
    {
     "data": {
      "text/plain": [
       "['chatgpt_HC3_all.csv',\n",
       " 'gpt_0125_00.csv',\n",
       " 'human_00.csv',\n",
       " 'human_01_01.csv',\n",
       " 'human_01_02.csv',\n",
       " 'human_02.csv',\n",
       " 'human_cook_01.csv',\n",
       " 'human_cook_02.csv',\n",
       " 'human_HC3_all.csv',\n",
       " 'human_modern_01.csv',\n",
       " 'human_modern_02.csv',\n",
       " 'human_travel_01.csv',\n",
       " 'human_travel_02.csv',\n",
       " 'human_travel_03.csv',\n",
       " 'questions_00.csv',\n",
       " 'questions_01_01.csv',\n",
       " 'questions_01_02.csv',\n",
       " 'questions_02.csv',\n",
       " 'questions_cook_01.csv',\n",
       " 'questions_cook_02.csv',\n",
       " 'questions_HC3_all.csv',\n",
       " 'questions_modern_01.csv',\n",
       " 'questions_modern_02.csv',\n",
       " 'questions_travel_01.csv',\n",
       " 'questions_travel_02.csv',\n",
       " 'questions_travel_03.csv',\n",
       " 'test_gpt_0125.csv',\n",
       " 'test_human.csv',\n",
       " 'test_questions.csv']"
      ]
     },
     "execution_count": 3,
     "metadata": {},
     "output_type": "execute_result"
    }
   ],
   "source": [
    "pattern = re.compile(r\".*\\.csv\")\n",
    "data_path = '../../dataset/'\n",
    "files = os.listdir(data_path)\n",
    "files = [file for file in files if pattern.match(file)]\n",
    "files"
   ]
  },
  {
   "cell_type": "code",
   "execution_count": 4,
   "metadata": {},
   "outputs": [],
   "source": [
    "d_hfiles = [data_path+h for h in ['human_HC3_all.csv', 'test_human.csv']]\n",
    "d_afiles = [data_path+a for a in ['chatgpt_HC3_all.csv', 'test_gpt_0125.csv']]\n",
    "model_name = 'emotion_Dou[eps, eiv]'\n",
    "\n",
    "d_train_pct = 0.7     # 默认参数：训练集与验证集7:3\n",
    "d_batch_size = 32     # 默认参数：一个epoch有32个样本\n",
    "d_num_workers = 0     # 默认参数：同时工作0个进程的取数器\n",
    "d_embedding_size = 2\n",
    "\n",
    "def default_loader(embedding:str):       \n",
    "    return torch.tensor(json.loads(embedding))\n",
    "\n",
    "class DataSet():\n",
    "\n",
    "    def __init__(self, hfiles: list=None, afiles: list=None, model_name: str=model_name, from_cached: list=None, loader: types.FunctionType=default_loader, transform=None):\n",
    "        \n",
    "        if hfiles == None:\n",
    "            hfiles = d_hfiles\n",
    "        \n",
    "        if afiles == None:\n",
    "            afiles = d_afiles\n",
    "\n",
    "        if from_cached != None:\n",
    "            dfs = [pd.read_csv(file) for file in from_cached]\n",
    "            self.data = pd.concat(dfs).sample(frac=1).reset_index(drop=True)\n",
    "\n",
    "            if len(dfs) > 1:\n",
    "                time_str = time.strftime('%Y-%m-%d-%H-%M-%S', time.localtime())\n",
    "                self.data.to_csv(f'cached_dataset/merged-{time_str}')\n",
    "                \n",
    "            self.data[model_name] = self.data[model_name].map(loader)\n",
    "\n",
    "        else:\n",
    "            self.model = model_name\n",
    "            self.loader = loader\n",
    "            self.transform = transform\n",
    "\n",
    "            self.hdfs = [pd.read_csv(file) for file in hfiles]\n",
    "            self.adfs = [pd.read_csv(file) for file in afiles]\n",
    "            \n",
    "            self.data = pd.concat((\n",
    "                pd.concat(self.hdfs).sample(frac=1).reset_index(drop=True).assign(label=0.0), \n",
    "                pd.concat(self.adfs).sample(frac=1).reset_index(drop=True).assign(label=1.0)))[[model_name, 'label']].sample(frac=1).reset_index(drop=True)\n",
    "            \n",
    "            # 保存这个数据集，便于复现\n",
    "            time_str = time.strftime('%Y-%m-%d-%H-%M-%S', time.localtime())\n",
    "            self.data.to_csv(f'cached_dataset/test-{time_str}')\n",
    "            self.data[model_name] = self.data[model_name].map(loader)\n",
    "\n",
    "    def __len__(self):                  # 用于度量一批图片的数量\n",
    "        return len(self.data)\n",
    "\n",
    "    def __getitem__(self, index):       # 用于取出一批图片\n",
    "        item = self.data.iloc[index]\n",
    "        label = torch.tensor([item['label']], dtype=torch.float32)\n",
    "        return item[model_name], label\n",
    "\n",
    "    def split(self, train_pct=d_train_pct):   # 用于按train_pct的比例切分训练集和验证集\n",
    "        train_size = int(len(self) * train_pct)     # 训练集样本数\n",
    "        valdate_size = len(self) - train_size       # 验证集样本数\n",
    "        self.train_set, self.validate_set = torch.utils.data.random_split(self, [train_size, valdate_size]) # 切分\n",
    "        return (self.train_set, self.validate_set)  # 返回切分后的样本\n",
    "\n",
    "    def loaders(self, batch_size=d_batch_size, num_workers=d_num_workers):  # 多进程返回训练集数据生成器和验证集数据生成器\n",
    "        self.train_loader = torch.utils.data.DataLoader(self.train_set, \n",
    "                                                   batch_size=batch_size, shuffle=True, num_workers=num_workers)    # 训练集打乱\n",
    "        self.validate_loader = torch.utils.data.DataLoader(self.validate_set, \n",
    "                                                     batch_size=batch_size, shuffle=False, num_workers=num_workers) # 验证集不打乱\n",
    "        return (self.train_loader, self.validate_loader)\n"
   ]
  },
  {
   "cell_type": "markdown",
   "metadata": {},
   "source": [
    "### 测试数据读取与生成器"
   ]
  },
  {
   "cell_type": "code",
   "execution_count": 6,
   "metadata": {},
   "outputs": [
    {
     "name": "stdout",
     "output_type": "stream",
     "text": [
      "torch.Size([32, 2])\n",
      "torch.Size([32, 1])\n"
     ]
    }
   ],
   "source": [
    "from torchvision.utils import make_grid         # 用于网格式显示多张图片\n",
    "full_data = DataSet(from_cached=['cached_dataset/test-2024-06-05-12-44-46'])       # 实例化数据生成器\n",
    "full_data.split()           # 切分数据集\n",
    "train_loader, validate_loader = full_data.loaders(num_workers=0)    # 分别生成训练集和验证集的数据生成器\n",
    "embeddings, labels = next(iter(train_loader))       # 获取训练集第一个批次中的图片及相应标签\n",
    "print(embeddings.shape)     # 查看该批次图片数目和尺寸\n",
    "print(labels.shape)     # 查看该批次对应标签的数目"
   ]
  },
  {
   "cell_type": "code",
   "execution_count": null,
   "metadata": {},
   "outputs": [
    {
     "name": "stdout",
     "output_type": "stream",
     "text": [
      "40173\n",
      "17695\n",
      "22478\n"
     ]
    }
   ],
   "source": [
    "print(len(full_data))\n",
    "print(len([label for _, label in full_data if label == 1.0]))\n",
    "print(len([label for _, label in full_data if label == 0.0]))"
   ]
  },
  {
   "cell_type": "code",
   "execution_count": 7,
   "metadata": {},
   "outputs": [
    {
     "data": {
      "image/png": "[encoded data removed]",
      "text/plain": [
       "<Figure size 1800x600 with 2 Axes>"
      ]
     },
     "metadata": {},
     "output_type": "display_data"
    }
   ],
   "source": [
    "import matplotlib.pyplot as plt\n",
    "import seaborn as sns\n",
    "import pandas as pd\n",
    "import math\n",
    "\n",
    "# 构建数据\n",
    "data = {\n",
    "    'eps': [item[0][0].item() for item in full_data],\n",
    "    'eiv': [item[0][1].item() for item in full_data],\n",
    "    'labels': [item[1].item() for item in full_data]\n",
    "}\n",
    "\n",
    "# 创建DataFrame\n",
    "df = pd.DataFrame(data)\n",
    "\n",
    "# 设置绘图风格\n",
    "sns.set(style=\"whitegrid\")\n",
    "\n",
    "# 绘制分组箱线图\n",
    "fig, axes = plt.subplots(1, 2, figsize=(18, 6))\n",
    "\n",
    "# 绘制 eps 箱线图\n",
    "sns.boxplot(ax=axes[0], x='labels', y='eps', data=df)\n",
    "axes[0].set_title('eps')\n",
    "\n",
    "# 绘制 eiv 箱线图\n",
    "sns.boxplot(ax=axes[1], x='labels', y='eiv', data=df)\n",
    "axes[1].set_title('eiv')\n",
    "\n",
    "# 调整布局\n",
    "plt.tight_layout()\n",
    "\n",
    "# 显示图形\n",
    "plt.show()"
   ]
  },
  {
   "cell_type": "markdown",
   "metadata": {},
   "source": [
    "### 模型训练"
   ]
  },
  {
   "cell_type": "code",
   "execution_count": 11,
   "metadata": {},
   "outputs": [
    {
     "name": "stdout",
     "output_type": "stream",
     "text": [
      "Optimization terminated successfully.\n",
      "         Current function value: 0.635817\n",
      "         Iterations 6\n",
      "                           Logit Regression Results                           \n",
      "==============================================================================\n",
      "Dep. Variable:                 labels   No. Observations:                40173\n",
      "Model:                          Logit   Df Residuals:                    40170\n",
      "Method:                           MLE   Df Model:                            2\n",
      "Date:                Wed, 05 Jun 2024   Pseudo R-squ.:                 0.07321\n",
      "Time:                        16:03:36   Log-Likelihood:                -25543.\n",
      "converged:                       True   LL-Null:                       -27560.\n",
      "Covariance Type:            nonrobust   LLR p-value:                     0.000\n",
      "==============================================================================\n",
      "                 coef    std err          z      P>|z|      [0.025      0.975]\n",
      "------------------------------------------------------------------------------\n",
      "intercept     -2.0477      0.037    -54.802      0.000      -2.121      -1.974\n",
      "eps           -2.3564      0.045    -52.694      0.000      -2.444      -2.269\n",
      "eiv            1.4975      0.162      9.232      0.000       1.180       1.815\n",
      "==============================================================================\n"
     ]
    }
   ],
   "source": [
    "import statsmodels.api as sm\n",
    "import pandas as pd\n",
    "\n",
    "# 构建数据\n",
    "data = {\n",
    "    'eps': [item[0][0].item() for item in full_data],\n",
    "    'eiv': [item[0][1].item() for item in full_data],\n",
    "    'labels': [item[1].item() for item in full_data]\n",
    "}\n",
    "\n",
    "# 创建DataFrame\n",
    "df = pd.DataFrame(data)\n",
    "df = df.replace([np.inf, -np.inf], np.nan).dropna()\n",
    "\n",
    "\n",
    "# 添加常数项（截距项）\n",
    "df['intercept'] = 1.0\n",
    "\n",
    "# 定义自变量和因变量\n",
    "X = df[['intercept', 'eps', 'eiv']]\n",
    "y = df['labels']\n",
    "\n",
    "# 进行逻辑回归\n",
    "logit_model = sm.Logit(y, X)\n",
    "result = logit_model.fit()\n",
    "\n",
    "# 输出回归结果\n",
    "print(result.summary())\n"
   ]
  },
  {
   "cell_type": "code",
   "execution_count": 12,
   "metadata": {},
   "outputs": [
    {
     "name": "stdout",
     "output_type": "stream",
     "text": [
      "Accuracy: 0.5738680208099968\n",
      "Precision: 0.5155457195293102\n",
      "Recall: 0.5397569935009889\n",
      "F1: 0.5273736230363602\n"
     ]
    },
    {
     "data": {
      "image/png": "[encoded data removed]",
      "text/plain": [
       "<Figure size 640x480 with 1 Axes>"
      ]
     },
     "metadata": {},
     "output_type": "display_data"
    }
   ],
   "source": [
    "import numpy as np\n",
    "from sklearn.metrics import accuracy_score, precision_score, recall_score, f1_score, roc_curve, auc\n",
    "import matplotlib.pyplot as plt\n",
    "\n",
    "# 进行预测，预测概率\n",
    "df['pred_prob'] = result.predict(X)\n",
    "\n",
    "# 设置阈值0.5进行分类\n",
    "df['pred_label'] = (df['pred_prob'] >= 0.5).astype(int)\n",
    "\n",
    "# 计算accuracy, precision, recall, f1\n",
    "accuracy = accuracy_score(df['labels'], df['pred_label'])\n",
    "precision = precision_score(df['labels'], df['pred_label'])\n",
    "recall = recall_score(df['labels'], df['pred_label'])\n",
    "f1 = f1_score(df['labels'], df['pred_label'])\n",
    "\n",
    "print(f'Accuracy: {accuracy}')\n",
    "print(f'Precision: {precision}')\n",
    "print(f'Recall: {recall}')\n",
    "print(f'F1: {f1}')\n",
    "\n",
    "# 计算 ROC 曲线和 AUC 值\n",
    "fpr, tpr, thresholds = roc_curve(df['labels'], df['pred_prob'])\n",
    "roc_auc = auc(fpr, tpr)\n",
    "\n",
    "# 绘制 ROC 曲线\n",
    "plt.figure()\n",
    "plt.plot(fpr, tpr, color='darkorange', lw=2, label='ROC curve (area = %0.2f)' % roc_auc)\n",
    "plt.plot([0, 1], [0, 1], color='navy', lw=2, linestyle='--')\n",
    "plt.xlim([0.0, 1.0])\n",
    "plt.ylim([0.0, 1.05])\n",
    "plt.xlabel('False Positive Rate')\n",
    "plt.ylabel('True Positive Rate')\n",
    "plt.title('Receiver Operating Characteristic (ROC)')\n",
    "plt.legend(loc=\"lower right\")\n",
    "plt.show()"
   ]
  },
  {
   "cell_type": "code",
   "execution_count": 13,
   "metadata": {},
   "outputs": [],
   "source": [
    "import pickle\n",
    "# 保存模型参数\n",
    "with open('emotion_Dou_202406051604.pkl', 'wb') as f:\n",
    "    pickle.dump(result.params, f)"
   ]
  }
 ],
 "metadata": {
  "kernelspec": {
   "display_name": "lf",
   "language": "python",
   "name": "lf"
  },
  "language_info": {
   "codemirror_mode": {
    "name": "ipython",
    "version": 3
   },
   "file_extension": ".py",
   "mimetype": "text/x-python",
   "name": "python",
   "nbconvert_exporter": "python",
   "pygments_lexer": "ipython3",
   "version": "3.10.10"
  }
 },
 "nbformat": 4,
 "nbformat_minor": 2
}
