{
 "cells": [
  {
   "cell_type": "code",
   "execution_count": 1,
   "metadata": {},
   "outputs": [],
   "source": [
    "from openai import OpenAI, Embedding\n",
    "import logging"
   ]
  },
  {
   "cell_type": "code",
   "execution_count": 2,
   "metadata": {},
   "outputs": [],
   "source": [
    "# 设置基本日志记录配置\n",
    "logging.basicConfig(level=logging.INFO, format='%(asctime)s - %(levelname)s - %(message)s')\n",
    "\n",
    "client = OpenAI(\n",
    "    api_key=\"sk-oOrQCGXJh6zoFItg4b749a9cA8124fB6Bd117c180a19D5A0\",\n",
    "    base_url = \"https://api.crowtalk.live/v1\"\n",
    ")"
   ]
  },
  {
   "cell_type": "code",
   "execution_count": null,
   "metadata": {},
   "outputs": [],
   "source": [
    "def get_chat_response(question, temperature=1.0, n=1):\n",
    "    \"\"\"向 API 发送问题并获取 AI 的响应。\"\"\"\n",
    "    try:\n",
    "        # 尝试从 API 获取聊天响应\n",
    "        response = client.chat.completions.create(\n",
    "            model=\"gpt-3.5-turbo-0125\",\n",
    "            messages=[\n",
    "                {\"role\": \"user\", \"content\": question}\n",
    "            ],\n",
    "            temperature=temperature,\n",
    "            n = n,\n",
    "        )\n",
    "        if response:\n",
    "            # 如果成功获取 AI 的响应,则记录并获取响应内容\n",
    "            logging.info(f\"AI 响应：{response}\")\n",
    "            choices = response.choices\n",
    "            ans = [choice.message.content for choice in choices]\n",
    "            return ans\n",
    "        else:\n",
    "            # 如果未能获取 AI 的响应,则记录错误日志\n",
    "            logging.error(\"未从 API 收到响应。\")\n",
    "            return None\n",
    "    except Exception as e:\n",
    "        # 记录错误日志\n",
    "        logging.error(f\"从 API 获取响应时出错：{e}\")\n",
    "        return None"
   ]
  }
 ],
 "metadata": {
  "kernelspec": {
   "display_name": "pytorchDML",
   "language": "python",
   "name": "pytorchdml"
  },
  "language_info": {
   "codemirror_mode": {
    "name": "ipython",
    "version": 3
   },
   "file_extension": ".py",
   "mimetype": "text/x-python",
   "name": "python",
   "nbconvert_exporter": "python",
   "pygments_lexer": "ipython3",
   "version": "3.10.14"
  }
 },
 "nbformat": 4,
 "nbformat_minor": 2
}
