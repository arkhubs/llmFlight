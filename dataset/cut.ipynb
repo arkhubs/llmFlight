{
 "cells": [
  {
   "cell_type": "code",
   "execution_count": 7,
   "metadata": {},
   "outputs": [],
   "source": [
    "import numpy as np\n",
    "import pandas as pd\n",
    "import os, re, sys, json, time"
   ]
  },
  {
   "cell_type": "code",
   "execution_count": 8,
   "metadata": {},
   "outputs": [
    {
     "data": {
      "text/plain": [
       "['gpt_0125_00.csv',\n",
       " 'human_00.csv',\n",
       " 'human_01_01.csv',\n",
       " 'human_01_02.csv',\n",
       " 'questions_00.csv',\n",
       " 'questions_01_01.csv',\n",
       " 'questions_01_02.csv',\n",
       " 'test_questions.csv']"
      ]
     },
     "execution_count": 8,
     "metadata": {},
     "output_type": "execute_result"
    }
   ],
   "source": [
    "pattern = re.compile(r\".*\\.csv\")\n",
    "files = os.listdir('./')\n",
    "files = [file for file in files if pattern.match(file)]\n",
    "files"
   ]
  },
  {
   "cell_type": "code",
   "execution_count": 9,
   "metadata": {},
   "outputs": [
    {
     "data": {
      "text/html": [
       "<div>\n",
       "<style scoped>\n",
       "    .dataframe tbody tr th:only-of-type {\n",
       "        vertical-align: middle;\n",
       "    }\n",
       "\n",
       "    .dataframe tbody tr th {\n",
       "        vertical-align: top;\n",
       "    }\n",
       "\n",
       "    .dataframe thead th {\n",
       "        text-align: right;\n",
       "    }\n",
       "</style>\n",
       "<table border=\"1\" class=\"dataframe\">\n",
       "  <thead>\n",
       "    <tr style=\"text-align: right;\">\n",
       "      <th></th>\n",
       "      <th>Unnamed: 0</th>\n",
       "      <th>question_id</th>\n",
       "      <th>answer_id</th>\n",
       "      <th>text</th>\n",
       "    </tr>\n",
       "  </thead>\n",
       "  <tbody>\n",
       "    <tr>\n",
       "      <th>1352</th>\n",
       "      <td>163</td>\n",
       "      <td>454</td>\n",
       "      <td>1</td>\n",
       "      <td>我是老师，也是家长。\\n先从家长的角度说“双减”的影响。\\n原先能找到的学科培训班都找不到了...</td>\n",
       "    </tr>\n",
       "    <tr>\n",
       "      <th>1353</th>\n",
       "      <td>164</td>\n",
       "      <td>454</td>\n",
       "      <td>2</td>\n",
       "      <td>双减的本质是资源重新配置。\\n这个社会的资源是有限的，高层的很难动，还要一点一点往上输送。那...</td>\n",
       "    </tr>\n",
       "    <tr>\n",
       "      <th>1354</th>\n",
       "      <td>165</td>\n",
       "      <td>454</td>\n",
       "      <td>3</td>\n",
       "      <td>11.10更。刚批改完四年级期中考试作文，心梗严重，所以我又来给大家欣赏学生的“大作”了。\\...</td>\n",
       "    </tr>\n",
       "    <tr>\n",
       "      <th>1355</th>\n",
       "      <td>1209</td>\n",
       "      <td>455</td>\n",
       "      <td>1</td>\n",
       "      <td>你是怕内卷太猛，现在加入考研大军时间晚了，那可以这么回答: 看你出生年代和专业决定红利的多少...</td>\n",
       "    </tr>\n",
       "    <tr>\n",
       "      <th>1356</th>\n",
       "      <td>1210</td>\n",
       "      <td>455</td>\n",
       "      <td>2</td>\n",
       "      <td>学历的通货膨胀基本上是一个不可逆的过程。\\n这个和其他的简单供需关系还不太一样，因为高学历对...</td>\n",
       "    </tr>\n",
       "    <tr>\n",
       "      <th>...</th>\n",
       "      <td>...</td>\n",
       "      <td>...</td>\n",
       "      <td>...</td>\n",
       "      <td>...</td>\n",
       "    </tr>\n",
       "    <tr>\n",
       "      <th>1609</th>\n",
       "      <td>1954</td>\n",
       "      <td>542</td>\n",
       "      <td>3</td>\n",
       "      <td>华为急不急不知道，反正你显然挺着急的。\\n说正经的，南山必胜客之名妇孺皆知，你我都是不以为然...</td>\n",
       "    </tr>\n",
       "    <tr>\n",
       "      <th>1610</th>\n",
       "      <td>211</td>\n",
       "      <td>543</td>\n",
       "      <td>1</td>\n",
       "      <td>由于内容已经补充到很长了，所以做一下目录，并（在心里默念了二百五十遍\"Peace and L...</td>\n",
       "    </tr>\n",
       "    <tr>\n",
       "      <th>1611</th>\n",
       "      <td>1316</td>\n",
       "      <td>544</td>\n",
       "      <td>1</td>\n",
       "      <td>这个问题我可以强答一发:\\n普希金的外曾祖父，纯正的黑人\\n 普希金的外祖父（左侧），第一代...</td>\n",
       "    </tr>\n",
       "    <tr>\n",
       "      <th>1612</th>\n",
       "      <td>1317</td>\n",
       "      <td>544</td>\n",
       "      <td>2</td>\n",
       "      <td>梅根王妃（准确的称呼是萨塞克斯公爵夫人）黑白混血第一代\\n她和哈里王子的宝宝即将诞生，大家可...</td>\n",
       "    </tr>\n",
       "    <tr>\n",
       "      <th>1613</th>\n",
       "      <td>1318</td>\n",
       "      <td>544</td>\n",
       "      <td>3</td>\n",
       "      <td>温特沃斯·米勒，号称八国混血，实际上十国都不止。\\n米勒的祖父是牙买加/黑人混血，米勒的祖母...</td>\n",
       "    </tr>\n",
       "  </tbody>\n",
       "</table>\n",
       "<p>262 rows × 4 columns</p>\n",
       "</div>"
      ],
      "text/plain": [
       "      Unnamed: 0  question_id  answer_id  \\\n",
       "1352         163          454          1   \n",
       "1353         164          454          2   \n",
       "1354         165          454          3   \n",
       "1355        1209          455          1   \n",
       "1356        1210          455          2   \n",
       "...          ...          ...        ...   \n",
       "1609        1954          542          3   \n",
       "1610         211          543          1   \n",
       "1611        1316          544          1   \n",
       "1612        1317          544          2   \n",
       "1613        1318          544          3   \n",
       "\n",
       "                                                   text  \n",
       "1352  我是老师，也是家长。\\n先从家长的角度说“双减”的影响。\\n原先能找到的学科培训班都找不到了...  \n",
       "1353  双减的本质是资源重新配置。\\n这个社会的资源是有限的，高层的很难动，还要一点一点往上输送。那...  \n",
       "1354  11.10更。刚批改完四年级期中考试作文，心梗严重，所以我又来给大家欣赏学生的“大作”了。\\...  \n",
       "1355  你是怕内卷太猛，现在加入考研大军时间晚了，那可以这么回答: 看你出生年代和专业决定红利的多少...  \n",
       "1356  学历的通货膨胀基本上是一个不可逆的过程。\\n这个和其他的简单供需关系还不太一样，因为高学历对...  \n",
       "...                                                 ...  \n",
       "1609  华为急不急不知道，反正你显然挺着急的。\\n说正经的，南山必胜客之名妇孺皆知，你我都是不以为然...  \n",
       "1610  由于内容已经补充到很长了，所以做一下目录，并（在心里默念了二百五十遍\"Peace and L...  \n",
       "1611  这个问题我可以强答一发:\\n普希金的外曾祖父，纯正的黑人\\n 普希金的外祖父（左侧），第一代...  \n",
       "1612  梅根王妃（准确的称呼是萨塞克斯公爵夫人）黑白混血第一代\\n她和哈里王子的宝宝即将诞生，大家可...  \n",
       "1613  温特沃斯·米勒，号称八国混血，实际上十国都不止。\\n米勒的祖父是牙买加/黑人混血，米勒的祖母...  \n",
       "\n",
       "[262 rows x 4 columns]"
      ]
     },
     "execution_count": 9,
     "metadata": {},
     "output_type": "execute_result"
    }
   ],
   "source": [
    "file = 'human_01_01.csv'\n",
    "outfile = 'test_human.csv'\n",
    "df = pd.read_csv(file)\n",
    "df = df[df['question_id'] >= 454]\n",
    "df"
   ]
  },
  {
   "cell_type": "code",
   "execution_count": 10,
   "metadata": {},
   "outputs": [],
   "source": [
    "df.to_csv(outfile, encoding='utf-8-sig')"
   ]
  },
  {
   "cell_type": "code",
   "execution_count": null,
   "metadata": {},
   "outputs": [],
   "source": []
  }
 ],
 "metadata": {
  "kernelspec": {
   "display_name": "pytorchDML",
   "language": "python",
   "name": "pytorchdml"
  },
  "language_info": {
   "codemirror_mode": {
    "name": "ipython",
    "version": 3
   },
   "file_extension": ".py",
   "mimetype": "text/x-python",
   "name": "python",
   "nbconvert_exporter": "python",
   "pygments_lexer": "ipython3",
   "version": "3.10.14"
  }
 },
 "nbformat": 4,
 "nbformat_minor": 2
}
